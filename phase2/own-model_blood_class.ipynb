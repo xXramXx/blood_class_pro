{
 "cells": [
  {
   "cell_type": "code",
   "execution_count": 1,
   "id": "ed42a304",
   "metadata": {},
   "outputs": [],
   "source": [
    "from keras.layers.core import Dense,Flatten\n",
    "from tensorflow.keras.models import Sequential\n",
    "from tensorflow.keras.optimizers import Adam\n",
    "import tensorflow as tf"
   ]
  },
  {
   "cell_type": "code",
   "execution_count": 6,
   "id": "3995a266",
   "metadata": {},
   "outputs": [],
   "source": [
    "import os\n",
    "from tensorflow.keras import layers\n",
    "\n",
    "image_augument = tf.keras.Sequential([\n",
    "  layers.Resizing(128,128),\n",
    "  #layers.Reshape((128, 128), input_shape=(128,)),\n",
    "  layers.Rescaling(scale=1./255),\n",
    "  layers.RandomContrast( [0., 1.5],seed=None),\n",
    "  layers.RandomFlip(\"horizontal_and_vertical\"),\n",
    "  layers.RandomRotation(0.2),\n",
    "  #layers.Conv2D(16, 3, padding='same', activation='relu'),\n",
    "  #layers.MaxPooling2D(),\n",
    "  # Rest of your model.\n",
    "])"
   ]
  },
  {
   "cell_type": "code",
   "execution_count": 7,
   "id": "89090ac4",
   "metadata": {},
   "outputs": [
    {
     "ename": "NameError",
     "evalue": "name 'file' is not defined",
     "output_type": "error",
     "traceback": [
      "\u001b[1;31m---------------------------------------------------------------------------\u001b[0m",
      "\u001b[1;31mNameError\u001b[0m                                 Traceback (most recent call last)",
      "\u001b[1;32mf:\\Explore\\mechine\\paper\\pro\\blood cell\\mobilenetv3_blood_class.ipynb Cell 7\u001b[0m line \u001b[0;36m3\n\u001b[0;32m      <a href='vscode-notebook-cell:/f%3A/Explore/mechine/paper/pro/blood%20cell/mobilenetv3_blood_class.ipynb#W6sZmlsZQ%3D%3D?line=0'>1</a>\u001b[0m new_data\u001b[39m=\u001b[39m[]\n\u001b[1;32m----> <a href='vscode-notebook-cell:/f%3A/Explore/mechine/paper/pro/blood%20cell/mobilenetv3_blood_class.ipynb#W6sZmlsZQ%3D%3D?line=2'>3</a>\u001b[0m \u001b[39mfor\u001b[39;00m i \u001b[39min\u001b[39;00m os\u001b[39m.\u001b[39mlistdir(file):\n\u001b[0;32m      <a href='vscode-notebook-cell:/f%3A/Explore/mechine/paper/pro/blood%20cell/mobilenetv3_blood_class.ipynb#W6sZmlsZQ%3D%3D?line=3'>4</a>\u001b[0m     \u001b[39mfor\u001b[39;00m j \u001b[39min\u001b[39;00m os\u001b[39m.\u001b[39mlistdir(os\u001b[39m.\u001b[39mpath\u001b[39m.\u001b[39mjoin(file,i)):\n\u001b[0;32m      <a href='vscode-notebook-cell:/f%3A/Explore/mechine/paper/pro/blood%20cell/mobilenetv3_blood_class.ipynb#W6sZmlsZQ%3D%3D?line=4'>5</a>\u001b[0m         img\u001b[39m=\u001b[39mcv2\u001b[39m.\u001b[39mimread(os\u001b[39m.\u001b[39mpath\u001b[39m.\u001b[39mjoin(file,i,j))\n",
      "\u001b[1;31mNameError\u001b[0m: name 'file' is not defined"
     ]
    }
   ],
   "source": [
    "new_data=[]\n",
    "\n",
    "for i in os.listdir(file):\n",
    "    for j in os.listdir(os.path.join(file,i)):\n",
    "        img=cv2.imread(os.path.join(file,i,j))\n",
    "        pic=image_augument(img)\n",
    "        for r in range(20):\n",
    "            new_data.append([pic,i])\n",
    "        new_data.append([shape_data(img),i])"
   ]
  },
  {
   "cell_type": "code",
   "execution_count": 2,
   "id": "da84fa56",
   "metadata": {},
   "outputs": [
    {
     "name": "stdout",
     "output_type": "stream",
     "text": [
      "Model: \"sequential\"\n",
      "_________________________________________________________________\n",
      " Layer (type)                Output Shape              Param #   \n",
      "=================================================================\n",
      " conv2d (Conv2D)             (None, 126, 126, 16)      448       \n",
      "                                                                 \n",
      " max_pooling2d (MaxPooling2D  (None, 63, 63, 16)       0         \n",
      " )                                                               \n",
      "                                                                 \n",
      " conv2d_1 (Conv2D)           (None, 61, 61, 32)        4640      \n",
      "                                                                 \n",
      " max_pooling2d_1 (MaxPooling  (None, 30, 30, 32)       0         \n",
      " 2D)                                                             \n",
      "                                                                 \n",
      " conv2d_2 (Conv2D)           (None, 28, 28, 64)        18496     \n",
      "                                                                 \n",
      " max_pooling2d_2 (MaxPooling  (None, 14, 14, 64)       0         \n",
      " 2D)                                                             \n",
      "                                                                 \n",
      " conv2d_3 (Conv2D)           (None, 12, 12, 204)       117708    \n",
      "                                                                 \n",
      " max_pooling2d_3 (MaxPooling  (None, 6, 6, 204)        0         \n",
      " 2D)                                                             \n",
      "                                                                 \n",
      " flatten (Flatten)           (None, 7344)              0         \n",
      "                                                                 \n",
      " dense (Dense)               (None, 512)               3760640   \n",
      "                                                                 \n",
      " dense_1 (Dense)             (None, 4)                 2052      \n",
      "                                                                 \n",
      "=================================================================\n",
      "Total params: 3,903,984\n",
      "Trainable params: 3,903,984\n",
      "Non-trainable params: 0\n",
      "_________________________________________________________________\n"
     ]
    }
   ],
   "source": [
    "import tensorflow as tf\n",
    "from tensorflow.keras.optimizers import RMSprop\n",
    "from tensorflow.keras.models import load_model, model_from_json\n",
    "\n",
    "model=tf.keras.models.Sequential([\n",
    "    tf.keras.layers.Conv2D(16,(3,3),input_shape=(128,128,3),activation='relu'),\n",
    "    tf.keras.layers.MaxPool2D(2,2),\n",
    "    tf.keras.layers.Conv2D(32,(3,3),activation='relu'),\n",
    "    tf.keras.layers.MaxPool2D(2,2),\n",
    "    tf.keras.layers.Conv2D(64,(3,3),activation='relu'),\n",
    "    tf.keras.layers.MaxPool2D(2,2),\n",
    "    tf.keras.layers.Conv2D(204,(3,3),activation='relu'),\n",
    "    tf.keras.layers.MaxPool2D(2,2),\n",
    "    tf.keras.layers.Flatten(),\n",
    "    tf.keras.layers.Dense(512,activation='relu'),\n",
    "    tf.keras.layers.Dense(4,activation='softmax')\n",
    "])\n",
    "\n",
    "model.summary()"
   ]
  },
  {
   "cell_type": "code",
   "execution_count": null,
   "id": "f26bd466",
   "metadata": {},
   "outputs": [],
   "source": [
    "model.compile(loss='sparse_categorical_crossentropy',metrics=['acc'],optimizer='adam')"
   ]
  },
  {
   "cell_type": "code",
   "execution_count": null,
   "id": "8642503b",
   "metadata": {},
   "outputs": [],
   "source": [
    "model.fit(new_train,new_lable,epochs=10,batch_size=50,shuffle=True)"
   ]
  },
  {
   "cell_type": "code",
   "execution_count": null,
   "id": "89018a00",
   "metadata": {},
   "outputs": [],
   "source": [
    "from tensorflow.keras.models import load_model\n",
    "import matplotlib.pyplot as plt\n",
    "import numpy as np\n",
    "import cv2\n",
    "import sys\n",
    "import os\n",
    "\n",
    "model=load_model('model_3.h5')\n",
    "res=['EOSINOPHIL','LYMPHOCYTE','MONOCYTE','NEUTROPHIL']\n",
    "\n",
    "test_pic=\"3975.jpeg\"\n",
    "pic=cv2.imread(test_pic)\n",
    "sample=cv2.resize(pic,(128,128))\n",
    "sample=cv2.normalize(sample,None,alpha=0,beta=1,norm_type=cv2.NORM_MINMAX, dtype=cv2.CV_32F)\n",
    "test_sample=np.array(sample).reshape(-1,128,128,3)\n",
    "val=np.argmax(model.predict([[test_sample]]))\n",
    "plt.imshow(sample)\n",
    "print(res[val])"
   ]
  }
 ],
 "metadata": {
  "kernelspec": {
   "display_name": "Python 3 (ipykernel)",
   "language": "python",
   "name": "python3"
  },
  "language_info": {
   "codemirror_mode": {
    "name": "ipython",
    "version": 3
   },
   "file_extension": ".py",
   "mimetype": "text/x-python",
   "name": "python",
   "nbconvert_exporter": "python",
   "pygments_lexer": "ipython3",
   "version": "3.10.11"
  }
 },
 "nbformat": 4,
 "nbformat_minor": 5
}
