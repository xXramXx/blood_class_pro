{
 "cells": [
  {
   "cell_type": "code",
   "execution_count": null,
   "id": "ed42a304",
   "metadata": {},
   "outputs": [],
   "source": [
    "from keras.layers.core import Dense,Flatten\n",
    "from tensorflow.keras.models import Sequential\n",
    "from tensorflow.keras.optimizers import Adam"
   ]
  },
  {
   "cell_type": "code",
   "execution_count": null,
   "id": "a89e2251",
   "metadata": {},
   "outputs": [],
   "source": [
    "model = Sequential()\n",
    "model.add(tf.keras.applications.MobileNetV3Large(include_top = False, weights=\"imagenet\", input_shape=(128, 128, 3)))\n",
    "model.add(tf.keras.layers.GlobalAveragePooling2D())\n",
    "model.add(Dense(1, activation = 'sigmoid'))\n",
    "model.layers[0].trainable = False"
   ]
  },
  {
   "cell_type": "code",
   "execution_count": null,
   "id": "cd93329a",
   "metadata": {},
   "outputs": [],
   "source": [
    "model.compile(loss='binary_crossentropy',metrics=['acc'],optimizer=RMSprop(learning_rate=0.001))"
   ]
  },
  {
   "cell_type": "code",
   "execution_count": null,
   "id": "974e9755",
   "metadata": {},
   "outputs": [],
   "source": [
    "history=model.fit(X_train,y_train,validation_split=0.2,epochs=10,batch_size=50,shuffle=True)"
   ]
  },
  {
   "cell_type": "code",
   "execution_count": null,
   "id": "5a394474",
   "metadata": {},
   "outputs": [],
   "source": [
    "model.predict(X_test[[1]])"
   ]
  },
  {
   "cell_type": "code",
   "execution_count": null,
   "id": "3995a266",
   "metadata": {},
   "outputs": [],
   "source": [
    "from tensorflow.keras import layers\n",
    "\n",
    "image_augument = tf.keras.Sequential([\n",
    "  layers.Resizing(128,128),\n",
    "  #layers.Reshape((128, 128), input_shape=(128,)),\n",
    "  layers.Rescaling(scale=1./255),\n",
    "  layers.RandomContrast( [0., 1.5],seed=None),\n",
    "  layers.RandomFlip(\"horizontal_and_vertical\"),\n",
    "  layers.RandomRotation(0.2),\n",
    "  #layers.Conv2D(16, 3, padding='same', activation='relu'),\n",
    "  #layers.MaxPooling2D(),\n",
    "  # Rest of your model.\n",
    "])bbba"
   ]
  },
  {
   "cell_type": "code",
   "execution_count": null,
   "id": "89090ac4",
   "metadata": {},
   "outputs": [],
   "source": [
    "new_data=[]\n",
    "\n",
    "for i in os.listdir(file):\n",
    "    for j in os.listdir(os.path.join(file,i)):\n",
    "        img=cv2.imread(os.path.join(file,i,j))\n",
    "        pic=image_augument(img)\n",
    "        for r in range(20):\n",
    "            new_data.append([pic,i])\n",
    "        new_data.append([shape_data(img),i])"
   ]
  },
  {
   "cell_type": "code",
   "execution_count": null,
   "id": "da84fa56",
   "metadata": {},
   "outputs": [],
   "source": [
    "import tensorflow as tf\n",
    "from tensorflow.keras.optimizers import RMSprop\n",
    "from tensorflow.keras.models import load_model, model_from_json\n",
    "\n",
    "model=tf.keras.models.Sequential([\n",
    "    tf.keras.layers.Conv2D(16,(3,3),input_shape=(128,128,3),activation='relu'),\n",
    "    tf.keras.layers.MaxPool2D(2,2),\n",
    "    tf.keras.layers.Conv2D(32,(3,3),activation='relu'),\n",
    "    tf.keras.layers.MaxPool2D(2,2),\n",
    "    tf.keras.layers.Conv2D(64,(3,3),activation='relu'),\n",
    "    tf.keras.layers.MaxPool2D(2,2),\n",
    "    tf.keras.layers.Conv2D(204,(3,3),activation='relu'),\n",
    "    tf.keras.layers.MaxPool2D(2,2),\n",
    "    tf.keras.layers.Flatten(),\n",
    "    tf.keras.layers.Dense(512,activation='relu'),\n",
    "    tf.keras.layers.Dense(4,activation='softmax')\n",
    "])"
   ]
  },
  {
   "cell_type": "code",
   "execution_count": null,
   "id": "f26bd466",
   "metadata": {},
   "outputs": [],
   "source": [
    "model.compile(loss='sparse_categorical_crossentropy',metrics=['acc'],optimizer='adam')"
   ]
  },
  {
   "cell_type": "code",
   "execution_count": null,
   "id": "8642503b",
   "metadata": {},
   "outputs": [],
   "source": [
    "model.fit(new_train,new_lable,epochs=10,batch_size=50,shuffle=True)"
   ]
  },
  {
   "cell_type": "code",
   "execution_count": 2,
   "id": "aab971be",
   "metadata": {},
   "outputs": [
    {
     "name": "stdout",
     "output_type": "stream",
     "text": [
      "1/1 [==============================] - 1s 1s/step\n",
      "EOSINOPHIL\n"
     ]
    }
   ],
   "source": [
    "from tensorflow.keras.models import load_model\n",
    "import matplotlib.pyplot as plt\n",
    "import numpy as np\n",
    "import cv2\n",
    "import sys\n",
    "import os\n",
    "\n",
    "model=load_model('model_2.h5')\n",
    "res=['EOSINOPHIL','LYMPHOCYTE','MONOCYTE','NEUTROPHIL']\n",
    "\n",
    "#test_pic=f\"F:/Exprement/saturn//GAN/blood samples/dataset2-master/dataset2-master/images/TEST_SIMPLE/LYMPHOCYTE/{sys.argv[1]}\"\n",
    "test_pic=\"_0_3975.jpeg\"\n",
    "pic=cv2.imread(test_pic)\n",
    "sample=cv2.resize(pic,(128,128))\n",
    "sample=cv2.normalize(sample,None,alpha=0,beta=1,norm_type=cv2.NORM_MINMAX, dtype=cv2.CV_32F)\n",
    "test_sample=np.array(sample).reshape(-1,128,128,3)\n",
    "val=np.argmax(model.predict([[test_sample]]))\n",
    "plt.imshow(sample)\n",
    "print(res[val])"
   ]
  },
  {
   "cell_type": "code",
   "execution_count": null,
   "id": "f9c738a7",
   "metadata": {},
   "outputs": [],
   "source": []
  }
 ],
 "metadata": {
  "kernelspec": {
   "display_name": "Python 3 (ipykernel)",
   "language": "python",
   "name": "python3"
  },
  "language_info": {
   "codemirror_mode": {
    "name": "ipython",
    "version": 3
   },
   "file_extension": ".py",
   "mimetype": "text/x-python",
   "name": "python",
   "nbconvert_exporter": "python",
   "pygments_lexer": "ipython3",
   "version": "3.10.12"
  }
 },
 "nbformat": 4,
 "nbformat_minor": 5
}
